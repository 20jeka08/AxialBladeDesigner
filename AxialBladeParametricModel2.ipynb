{
 "cells": [
  {
   "cell_type": "markdown",
   "metadata": {
    "toc": true
   },
   "source": [
    "<h1>Table of Contents<span class=\"tocSkip\"></span></h1>\n",
    "<div class=\"toc\"><ul class=\"toc-item\"><li><span><a href=\"#Import-of-Python-modules\" data-toc-modified-id=\"Import-of-Python-modules-1\"><span class=\"toc-item-num\">1&nbsp;&nbsp;</span>Import of Python modules</a></span></li><li><span><a href=\"#Class-for-generation-of-blade-profile\" data-toc-modified-id=\"Class-for-generation-of-blade-profile-2\"><span class=\"toc-item-num\">2&nbsp;&nbsp;</span>Class for generation of blade profile</a></span></li></ul></div>"
   ]
  },
  {
   "cell_type": "markdown",
   "metadata": {},
   "source": [
    "## Import of Python modules"
   ]
  },
  {
   "cell_type": "code",
   "execution_count": 51,
   "metadata": {
    "ExecuteTime": {
     "end_time": "2020-03-10T14:40:19.668485Z",
     "start_time": "2020-03-10T14:40:19.662486Z"
    }
   },
   "outputs": [],
   "source": [
    "import pandas as pd\n",
    "import numpy as np\n",
    "import matplotlib.pyplot as plt\n",
    "import sys\n",
    "from scipy import interpolate\n",
    "from mpl_toolkits.mplot3d import Axes3D"
   ]
  },
  {
   "cell_type": "code",
   "execution_count": 52,
   "metadata": {
    "ExecuteTime": {
     "end_time": "2020-03-10T14:40:19.824481Z",
     "start_time": "2020-03-10T14:40:19.821480Z"
    }
   },
   "outputs": [],
   "source": [
    "path = \"C:/Users/Persik/Anaconda3/envs/py36/Library/bin/\"\n",
    "sys.path.append(path)\n",
    "\n",
    "import FreeCAD, Part"
   ]
  },
  {
   "cell_type": "markdown",
   "metadata": {},
   "source": [
    "## Class for generation of blade profile"
   ]
  },
  {
   "cell_type": "code",
   "execution_count": 74,
   "metadata": {
    "ExecuteTime": {
     "end_time": "2020-03-10T14:55:51.396584Z",
     "start_time": "2020-03-10T14:55:51.296605Z"
    }
   },
   "outputs": [],
   "source": [
    "class BladeProfile():\n",
    "    def __init__(self, L, Beta_array, R_array, T_array, CoefLe=2, CoefTe=2, N=3000, N_LeTe = 30):\n",
    "        self.L = L\n",
    "        self.Beta_array = Beta_array\n",
    "        self.R_array = R_array\n",
    "        self.T_array = T_array\n",
    "        self.CoefLe = CoefLe\n",
    "        self.CoefTe = CoefTe\n",
    "        self.N = N\n",
    "        self.N_LeTe = N_LeTe\n",
    "    \n",
    "    def Generate2Dprofile(self):\n",
    "        '''Generation 2D profile of the blade, function returns XY coordinates of the profile'''\n",
    "        L = self.L\n",
    "        Beta_array = self.Beta_array\n",
    "        R_array = self.R_array\n",
    "        T_array = self.T_array\n",
    "        CoefLe = self.CoefLe\n",
    "        CoefTe = self.CoefTe\n",
    "        N = self.N\n",
    "        N_LeTe = self.N_LeTe\n",
    "        \n",
    "        FirstP = CoefLe*T_array[0]*np.cos(Beta_array[0]/180*np.pi)/2.0\n",
    "        LastP = CoefTe*T_array[-1]*np.cos(Beta_array[-1]/180*np.pi)/2.0\n",
    "        dx_i = np.linspace(0+FirstP, L-LastP, N)    # Split of the horizontal length of the blade\n",
    "        dx = dx_i[1:]-dx_i[:-1]\n",
    "        dx_beta_func = np.linspace(0, L, Beta_array.shape[0])   # Split length of blade for generation function beta = f(x)\n",
    "        beta_func = interpolate.interp1d(dx_beta_func, Beta_array, kind='quadratic') # function beta f(x)\n",
    "        Beta_i = beta_func(dx_i[1:])       # Calculation of the beta values for dx coordinates    \n",
    "        dy = dx*np.tan(Beta_i/180.0*np.pi)    # Calculation dy coordinates of the blade\n",
    "        dy_i = np.array([dy[:i+1].sum() for i in range(dy.shape[0])])+np.sqrt((CoefLe*T_array[0])**2/4-FirstP**2)\n",
    "\n",
    "        # Thickness of the streamline\n",
    "        dx_thick_func = np.linspace(0, L, T_array.shape[0])\n",
    "        thick_func = interpolate.interp1d(dx_thick_func, T_array, kind='quadratic')\n",
    "        T_i = thick_func(dx_i[1:])\n",
    "\n",
    "        dl = np.sqrt(dx**2+dy**2)\n",
    "        Alpha_i = np.arctan(T_i/dl/2)\n",
    "        dm = np.sqrt(dl**2+(T_i/2.0)**2)\n",
    "        T_y1 = dm*np.sin(Alpha_i+(Beta_i/180*np.pi))\n",
    "        T_x1 = dm*np.cos(Alpha_i+(Beta_i/180*np.pi))\n",
    "        T_y2 = dm*np.sin((Beta_i/180*np.pi)-Alpha_i)\n",
    "        T_x2 = dm*np.cos((Beta_i/180*np.pi)-Alpha_i)\n",
    "\n",
    "        T_y1i = T_y1+dy_i\n",
    "        T_x1i = T_x1+dx_i[1:]\n",
    "        T_y2i = T_y2+dy_i\n",
    "        T_x2i = T_x2+dx_i[1:]\n",
    "        \n",
    "        if CoefLe == 1:\n",
    "            # Creation of the coordinates of Leading Edge of the Airfoil\n",
    "            ArcLe = Part.Arc(FreeCAD.Vector(T_x2i[0], T_y2i[0], 0), FreeCAD.Vector(0, 0, 0), FreeCAD.Vector(T_x1i[0], T_y1i[0], 0))\n",
    "            Le_list = ArcLe.discretize(Number=N_LeTe+2)\n",
    "            Le_x = np.array([Le_list[i].x for i in range(len(Le_list))])\n",
    "            Le_y = np.array([Le_list[i].y for i in range(len(Le_list))])\n",
    "        else:   \n",
    "            # Ellipse type of the Leading Edge\n",
    "            MajorR = App.Vector(0, 0, 0)\n",
    "            MinorR = App.Vector(T_x1i[0], T_y1i[0], 0)\n",
    "            Center = App.Vector(dx_i[0], dy_i[0], 0)\n",
    "            ArcEllLe = Part.ArcOfEllipse(Part.Ellipse(MajorR, MinorR, Center),-1.5, 1.5)\n",
    "            Le_list = ArcEllLe.discretize(Number=N_LeTe)\n",
    "            Le_list.append(MinorR)\n",
    "            Le_list.insert(0, App.Vector(T_x2i[0], T_y2i[0], 0))\n",
    "            Le_x = np.array([Le_list[i].x for i in range(len(Le_list))])\n",
    "            Le_y = np.array([Le_list[i].y for i in range(len(Le_list))])    \n",
    "        \n",
    "        if CoefTe == 1:\n",
    "            #Creation of the coordinates Trailing Edge of the Airfoil\n",
    "            LastP_y = dy_i[-1]+np.sqrt((CoefTe*T_array[-1])**2/4-LastP**2)\n",
    "            ArcTe = Part.Arc(FreeCAD.Vector(T_x1i[-1], T_y1i[-1], 0), FreeCAD.Vector(L, LastP_y, 0), FreeCAD.Vector(T_x2i[-1], T_y2i[-1], 0))\n",
    "            Te_list = ArcTe.discretize(Number=N_LeTe+2)\n",
    "            Te_x = np.array([Te_list[i].x for i in range(len(Te_list))])\n",
    "            Te_y = np.array([Te_list[i].y for i in range(len(Te_list))])\n",
    "        else:\n",
    "            # Ellipse type of the Trailling Edge\n",
    "            LastP_y = dy_i[-1]+np.sqrt((CoefTe*T_array[-1])**2/4-LastP**2)\n",
    "            MajorR_Te = App.Vector(L, LastP_y, 0)\n",
    "            MinorR_Te = App.Vector(T_x1i[-1], T_y1i[-1], 0)\n",
    "            Center_Te = App.Vector(dx_i[-1], dy_i[-1], 0)\n",
    "            ArcEllTe = Part.ArcOfEllipse(Part.Ellipse(MajorR_Te, MinorR_Te, Center_Te),-1.5, 1.5)\n",
    "            Te_list = ArcEllTe.discretize(Number=N_LeTe)\n",
    "            Te_list.append(MinorR_Te)\n",
    "            Te_list.insert(0, App.Vector(T_x2i[-1], T_y2i[-1], 0))\n",
    "            Te_x = np.flip(np.array([Te_list[i].x for i in range(len(Te_list))]))\n",
    "            Te_y = np.flip(np.array([Te_list[i].y for i in range(len(Te_list))]))      \n",
    "        \n",
    "        # Compound of the all XY coordinates\n",
    "        X1 = np.array([Le_x, T_x1i, Te_x, np.flip(T_x2i)])\n",
    "        Y1 = np.array([Le_y, T_y1i, Te_y, np.flip(T_y2i)])\n",
    "        \n",
    "        # Creation of the list with FreeCAD Vectors of the streamline\n",
    "        ListStreamline = []\n",
    "        for i in range(dy_i.shape[0]):\n",
    "            v_i = FreeCAD.Vector(dx_i[i], dy_i[i], 0)\n",
    "            ListStreamline.append(v_i)\n",
    "        \n",
    "        SplineStreamline = Part.BSplineCurve()\n",
    "        SplineStreamline.interpolate(ListStreamline)\n",
    "        SplineStreamline = SplineStreamline.toShape()\n",
    "        CenterMass = SplineStreamline.CenterOfMass\n",
    "        \n",
    "        X = X1-CenterMass.x\n",
    "        Y = Y1-CenterMass.y\n",
    "        \n",
    "        return X, Y\n",
    "    \n",
    "    def View2DAirfoil(self, X_arrays, Y_arrays):\n",
    "        X1 = np.append(X_arrays[0], X_arrays[1])\n",
    "        Y1 = np.append(Y_arrays[0], Y_arrays[1])\n",
    "        X2 = np.append(X_arrays[2], X_arrays[3])\n",
    "        Y2 = np.append(Y_arrays[2], Y_arrays[3])\n",
    "        X = np.append(X1, X2)\n",
    "        Y = np.append(Y1, Y2)\n",
    "        plt.xlabel('X, [mm]')\n",
    "        plt.ylabel('Y, [mm]')\n",
    "        plt.plot(X, Y)\n",
    "        plt.grid()\n",
    "        plt.axis('equal')\n",
    "        plt.show()\n",
    "    \n",
    "    def Generate3Dprofile(self, X_arrays, Y_arrays):\n",
    "        '''Generation of the 3D coordinates of the profile with using Conformal Method'''\n",
    "        L = self.L\n",
    "        Beta_array = self.Beta_array\n",
    "        R_array = self.R_array\n",
    "        T_array = self.T_array\n",
    "        CoefLe = self.CoefLe\n",
    "        CoefTe = self.CoefTe\n",
    "        N = self.N\n",
    "        N_LeTe = self.N_LeTe\n",
    "          \n",
    "        merid_func = interpolate.interp1d(R_array[0], R_array[1], kind='quadratic')\n",
    "        R_i1 = merid_func(Y_arrays[1])\n",
    "        x_ps = R_i1*np.cos(X_arrays[1]/R_i1)\n",
    "        y_ps = R_i1*np.sin(X_arrays[1]/R_i1)\n",
    "        z_ps = Y_arrays[1]\n",
    "\n",
    "        R_i2 = merid_func(Y_arrays[3])\n",
    "        x_ss = R_i2*np.cos(X_arrays[3]/R_i2)\n",
    "        y_ss = R_i2*np.sin(X_arrays[3]/R_i2)\n",
    "        z_ss = Y_arrays[3]\n",
    "\n",
    "        R_le = merid_func(Y_arrays[0])\n",
    "        x_le = R_le*np.cos(X_arrays[0]/R_le)\n",
    "        y_le = R_le*np.sin(X_arrays[0]/R_le)\n",
    "        z_le = Y_arrays[0]\n",
    "\n",
    "        R_te = merid_func(Y_arrays[2])\n",
    "        x_te = R_te*np.cos(X_arrays[2]/R_te)\n",
    "        y_te = R_te*np.sin(X_arrays[2]/R_te)\n",
    "        z_te = Y_arrays[2]\n",
    "\n",
    "        x1 = np.append(x_le, x_ps)\n",
    "        y1 = np.append(y_le, y_ps)\n",
    "        z1 = np.append(z_le, z_ps)\n",
    "        x2 = np.append(x_te, x_ss)\n",
    "        y2 = np.append(y_te, y_ss)\n",
    "        z2 = np.append(z_te, z_ss)\n",
    "        x = np.append(x1, x2)\n",
    "        y = np.append(y1, y2)\n",
    "        z = np.append(z1, z2)\n",
    "        \n",
    "        return x, y, z\n",
    "\n",
    "    def View3DAirfoil(self, X, Y, Z):\n",
    "        fig = plt.figure()\n",
    "        ax = fig.add_subplot(111, projection='3d')\n",
    "        ax.plot(X, Y, Z)\n",
    "        ax.set_aspect('equal')\n",
    "        \n",
    "        max_range = np.array([X.max()-X.min(), Y.max()-Y.min(), Z.max()-Z.min()]).max()\n",
    "        Xb = 0.5*max_range*np.mgrid[-1:2:2,-1:2:2,-1:2:2][0].flatten() + 0.5*(X.max()+X.min())\n",
    "        Yb = 0.5*max_range*np.mgrid[-1:2:2,-1:2:2,-1:2:2][1].flatten() + 0.5*(Y.max()+Y.min())\n",
    "        Zb = 0.5*max_range*np.mgrid[-1:2:2,-1:2:2,-1:2:2][2].flatten() + 0.5*(Z.max()+Z.min())\n",
    "        # Comment or uncomment following both lines to test the fake bounding box:\n",
    "        for xb, yb, zb in zip(Xb, Yb, Zb):\n",
    "           ax.plot([xb], [yb], [zb], 'w')\n",
    "        \n",
    "    def ProfileToFreeCAD(self, X, Y, Z):\n",
    "        N_LeTe = self.N_LeTe\n",
    "        N = self.N\n",
    "        \n",
    "        le_v = [FreeCAD.Vector(X[i], Y[i], Z[i]) for i in range(N_LeTe+2)]\n",
    "        ps_v = [FreeCAD.Vector(X[i+N_LeTe+2], Y[i+N_LeTe+2], Z[i+N_LeTe+2]) for i in range(N-1)]\n",
    "        te_v = [FreeCAD.Vector(X[i+(N+N_LeTe+1)], Y[i+(N+N_LeTe+1)], Z[i+(N+N_LeTe+1)]) for i in range(N_LeTe+2)]\n",
    "        ss_v = [FreeCAD.Vector(X[i+(N+2*N_LeTe+3)], Y[i+(N+2*N_LeTe+3)], Z[i+(N+2*N_LeTe+3)]) for i in range(N-1)]\n",
    "        \n",
    "        LeSpline = Part.BSplineCurve()\n",
    "        LeSpline.interpolate(le_v)\n",
    "        LeSpline = LeSpline.toShape()\n",
    "        \n",
    "        PsSpline = Part.BSplineCurve()\n",
    "        ps_arr = np.array(ps_v[:-1])\n",
    "        ps_v = ps_arr[::20].tolist()\n",
    "        ps_v.append(te_v[0])\n",
    "        PsSpline.interpolate(ps_v)\n",
    "        PsSpline = PsSpline.toShape()\n",
    "\n",
    "        TeSpline = Part.BSplineCurve()\n",
    "        TeSpline.interpolate(te_v)\n",
    "        TeSpline = TeSpline.toShape()\n",
    "        \n",
    "        SsSpline = Part.BSplineCurve()\n",
    "        ss_arr = np.array(ss_v[:-1])\n",
    "        ss_v = ss_arr[::20].tolist()\n",
    "        ss_v.append(le_v[0])\n",
    "        SsSpline.interpolate(ss_v)\n",
    "        SsSpline = SsSpline.toShape()\n",
    "        \n",
    "        W = Part.Wire([LeSpline, PsSpline, TeSpline, SsSpline])\n",
    "\n",
    "        return W"
   ]
  },
  {
   "cell_type": "code",
   "execution_count": 81,
   "metadata": {
    "ExecuteTime": {
     "end_time": "2020-03-10T14:56:36.861670Z",
     "start_time": "2020-03-10T14:56:36.390669Z"
    }
   },
   "outputs": [],
   "source": [
    "FreeCAD.newDocument()\n",
    "Part.open('./ReferenceBlade.step')\n",
    "ObjBlade = FreeCAD.ActiveDocument.getObject('ReferenceBlade')\n",
    "SolidBladeRef = ObjBlade.Shape\n",
    "CenterMassRefBlade = SolidBladeRef.CenterOfMass\n",
    "SolidBladeRef2 = SolidBladeRef.copy()\n",
    "SolidBladeRef2.translate(FreeCAD.Vector(0, 0, -CenterMassRefBlade.z))\n",
    "Part.show(SolidBladeRef2)\n",
    "FreeCAD.ActiveDocument.removeObject('ReferenceBlade')"
   ]
  },
  {
   "cell_type": "code",
   "execution_count": 82,
   "metadata": {
    "ExecuteTime": {
     "end_time": "2020-03-10T14:56:37.296663Z",
     "start_time": "2020-03-10T14:56:37.038668Z"
    }
   },
   "outputs": [],
   "source": [
    "# Read Shroud and Hub coordinates from .csv files with XYZ\n",
    "df_hub = pd.read_csv('./Rotor37/hub.curve', decimal='.', delimiter='\\s+', names=['X', 'Y', 'Z'], header=None)*10.0\n",
    "df_shroud = pd.read_csv('./Rotor37/shroud.curve', decimal='.', delimiter='\\s+', names=['X', 'Y', 'Z'], header=None)*10.0\n",
    "df_shroud['Z'] = df_shroud['Z']-CenterMassRefBlade.z\n",
    "df_hub['Z'] = df_hub['Z']-CenterMassRefBlade.z\n",
    "df_ave = pd.DataFrame()\n",
    "df_ave['X'] = (df_shroud['X']+df_hub['X'])/2.0\n",
    "df_ave['Z'] = (df_shroud['Z']+df_hub['Z'])/2.0\n",
    "\n",
    "# Generate profiles\n",
    "Beta_arr1 = np.array([15, 20, 30])\n",
    "R_arr1 = np.array([df_shroud['Z'], df_shroud['X']])\n",
    "T_arr1 = np.array([0.5, 3, 2, 0.5])\n",
    "\n",
    "Beta_arr2 = np.array([20, 25, 55])\n",
    "R_arr2 = np.array([df_ave['Z'], df_ave['X']])\n",
    "T_arr2 = np.array([0.5, 3, 2, 0.5])\n",
    "\n",
    "Beta_arr3 = np.array([25, 30, 40])\n",
    "R_arr3 = np.array([df_hub['Z'], df_hub['X']])\n",
    "T_arr3 = np.array([0.5, 3, 2, 0.5])\n",
    "\n",
    "Profile1 = BladeProfile(50, Beta_array=Beta_arr1, R_array=R_arr1, T_array=T_arr1, CoefLe=1, CoefTe=1)\n",
    "Profile2 = BladeProfile(50, Beta_array=Beta_arr2, R_array=R_arr2, T_array=T_arr2, CoefLe=1, CoefTe=1)\n",
    "Profile3 = BladeProfile(50, Beta_array=Beta_arr3, R_array=R_arr3, T_array=T_arr3, CoefLe=1, CoefTe=1)\n",
    "\n",
    "X1, Y1 = Profile1.Generate2Dprofile()\n",
    "x1, y1, z1 = Profile1.Generate3Dprofile(X1, Y1)\n",
    "\n",
    "X2, Y2 = Profile2.Generate2Dprofile()\n",
    "x2, y2, z2 = Profile2.Generate3Dprofile(X2, Y2)\n",
    "\n",
    "X3, Y3 = Profile3.Generate2Dprofile()\n",
    "x3, y3, z3 = Profile3.Generate3Dprofile(X3, Y3)"
   ]
  },
  {
   "cell_type": "code",
   "execution_count": 83,
   "metadata": {
    "ExecuteTime": {
     "end_time": "2020-03-10T14:56:38.938029Z",
     "start_time": "2020-03-10T14:56:37.944010Z"
    }
   },
   "outputs": [],
   "source": [
    "W1 = Profile1.ProfileToFreeCAD(x1, y1, z1)\n",
    "W2 = Profile2.ProfileToFreeCAD(x2, y2, z2)\n",
    "W3 = Profile3.ProfileToFreeCAD(x3, y3, z3)\n",
    "\n",
    "BladeS = Part.makeLoft([W1, W2, W3])\n",
    "ShroudFace = Part.makeFilledFace([W1.Edges[0], W1.Edges[1], W1.Edges[2], W1.Edges[3]])\n",
    "HubFace = Part.makeFilledFace([W3.Edges[0], W3.Edges[1], W3.Edges[2], W3.Edges[3]])\n",
    "Shell = Part.makeShell([ShroudFace, HubFace, BladeS.Faces[0], BladeS.Faces[1], BladeS.Faces[2], BladeS.Faces[3]])\n",
    "Solid = Part.makeSolid(Shell)\n",
    "Part.show(Solid)\n",
    "FreeCAD.ActiveDocument.saveAs('./Profile.FCStd')  "
   ]
  },
  {
   "cell_type": "code",
   "execution_count": 84,
   "metadata": {
    "ExecuteTime": {
     "end_time": "2020-03-10T14:56:40.241299Z",
     "start_time": "2020-03-10T14:56:40.000302Z"
    }
   },
   "outputs": [
    {
     "data": {
      "text/plain": [
       "[<matplotlib.lines.Line2D at 0x25031eec6a0>]"
      ]
     },
     "execution_count": 84,
     "metadata": {},
     "output_type": "execute_result"
    },
    {
     "data": {
      "image/png": "[encoded data removed]",
      "text/plain": [
       "<Figure size 432x288 with 1 Axes>"
      ]
     },
     "metadata": {
      "needs_background": "light"
     },
     "output_type": "display_data"
    }
   ],
   "source": [
    "plt.plot(df_ave['Z'], df_ave['X'])\n",
    "plt.plot(df_shroud['Z'], df_shroud['X'])\n",
    "plt.plot(df_hub['Z'], df_hub['X'])"
   ]
  },
  {
   "cell_type": "code",
   "execution_count": null,
   "metadata": {
    "ExecuteTime": {
     "end_time": "2020-03-10T14:52:23.565480Z",
     "start_time": "2020-03-10T14:52:23.538485Z"
    }
   },
   "outputs": [],
   "source": []
  },
  {
   "cell_type": "code",
   "execution_count": null,
   "metadata": {},
   "outputs": [],
   "source": []
  }
 ],
 "metadata": {
  "kernelspec": {
   "display_name": "Python 3",
   "language": "python",
   "name": "python3"
  },
  "language_info": {
   "codemirror_mode": {
    "name": "ipython",
    "version": 3
   },
   "file_extension": ".py",
   "mimetype": "text/x-python",
   "name": "python",
   "nbconvert_exporter": "python",
   "pygments_lexer": "ipython3",
   "version": "3.6.9"
  },
  "toc": {
   "base_numbering": 1,
   "nav_menu": {
    "height": "146px",
    "width": "241px"
   },
   "number_sections": true,
   "sideBar": true,
   "skip_h1_title": false,
   "title_cell": "Table of Contents",
   "title_sidebar": "Contents",
   "toc_cell": true,
   "toc_position": {
    "height": "159px",
    "left": "1204px",
    "top": "288px",
    "width": "165px"
   },
   "toc_section_display": true,
   "toc_window_display": true
  }
 },
 "nbformat": 4,
 "nbformat_minor": 2
}
