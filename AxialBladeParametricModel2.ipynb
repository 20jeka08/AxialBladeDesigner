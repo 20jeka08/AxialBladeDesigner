{
 "cells": [
  {
   "cell_type": "markdown",
   "metadata": {
    "toc": true
   },
   "source": [
    "<h1>Table of Contents<span class=\"tocSkip\"></span></h1>\n",
    "<div class=\"toc\"><ul class=\"toc-item\"><li><span><a href=\"#Import-of-Python-modules\" data-toc-modified-id=\"Import-of-Python-modules-1\"><span class=\"toc-item-num\">1&nbsp;&nbsp;</span>Import of Python modules</a></span></li><li><span><a href=\"#Function-for-generation-of-2D-airfoil\" data-toc-modified-id=\"Function-for-generation-of-2D-airfoil-2\"><span class=\"toc-item-num\">2&nbsp;&nbsp;</span>Function for generation of 2D airfoil</a></span></li></ul></div>"
   ]
  },
  {
   "cell_type": "markdown",
   "metadata": {},
   "source": [
    "## Import of Python modules"
   ]
  },
  {
   "cell_type": "code",
   "execution_count": 190,
   "metadata": {
    "ExecuteTime": {
     "end_time": "2020-03-06T23:34:42.045420Z",
     "start_time": "2020-03-06T23:34:42.041422Z"
    }
   },
   "outputs": [],
   "source": [
    "import numpy as np\n",
    "import matplotlib.pyplot as plt\n",
    "import sys\n",
    "from scipy import interpolate\n",
    "from mpl_toolkits.mplot3d import Axes3D"
   ]
  },
  {
   "cell_type": "code",
   "execution_count": 191,
   "metadata": {
    "ExecuteTime": {
     "end_time": "2020-03-06T23:34:42.387039Z",
     "start_time": "2020-03-06T23:34:42.383041Z"
    }
   },
   "outputs": [],
   "source": [
    "pathToFreeCAD = \"F:/Progs/FreeCAD/FreeCAD-0.18.4.980bf90-WIN-x64-portable/conda-0.18.4/bin\"\n",
    "sys.path.append(pathToFreeCAD)\n",
    "\n",
    "import FreeCAD, Part"
   ]
  },
  {
   "cell_type": "markdown",
   "metadata": {},
   "source": [
    "## Function for generation of 2D airfoil"
   ]
  },
  {
   "cell_type": "code",
   "execution_count": 355,
   "metadata": {
    "ExecuteTime": {
     "end_time": "2020-03-07T08:00:23.202857Z",
     "start_time": "2020-03-07T08:00:23.191858Z"
    }
   },
   "outputs": [],
   "source": [
    "Beta_arr = np.array([15, 20, 25])\n",
    "R_arr = np.array([35, 35, 100])\n",
    "T_arr = np.array([2, 4, 3, 2])\n",
    "    \n",
    "def AxialCompressorAirfoil(L, Beta_array, R_array, T_array):\n",
    "    FreeCAD.newDocument()\n",
    "    N = 100                      # Number of the split average line of blade\n",
    "    dx_i = np.linspace(0, L, N)    # Split of the horizontal length of the blade\n",
    "    dx = dx_i[1:]-dx_i[:-1]\n",
    "    dx_beta_func = np.linspace(0, L, Beta_array.shape[0])   # Split length of blade for generation function beta = f(x)\n",
    "    beta_func = interpolate.interp1d(dx_beta_func, Beta_array, kind='quadratic') # function beta f(x)\n",
    "    Beta_i = beta_func(dx_i[1:])       # Calculation of the beta values for dx coordinates    \n",
    "    dy = dx*np.tan(Beta_i/180.0*np.pi)    # Calculation dy coordinates of the blade\n",
    "    \n",
    "    dy_i = np.array([dy[:i+1].sum() for i in range(dy.shape[0])])\n",
    "    print(dy_i.shape[0])\n",
    "    # Thickness of the streamline\n",
    "    dx_thick_func = np.linspace(0, L, T_array.shape[0])\n",
    "    thick_func = interpolate.interp1d(dx_thick_func, T_array, kind='quadratic')\n",
    "    T_i = thick_func(dx_i[1:])\n",
    "    \n",
    "    dl = np.sqrt(dx**2+dy**2)\n",
    "    Alpha_i = np.arctan(T_i/dl/2)\n",
    "    dm = np.sqrt(dl**2+T_i**2)\n",
    "    T_y1 = dm*np.sin(Alpha_i+(Beta_i/180*np.pi))\n",
    "    T_x1 = dm*np.cos(Alpha_i+(Beta_i/180*np.pi))\n",
    "    T_y2 = dm*np.sin((Beta_i/180*np.pi)-Alpha_i)\n",
    "    T_x2 = dm*np.cos((Beta_i/180*np.pi)-Alpha_i)\n",
    "    \n",
    "    T_y1i = T_y1+dy_i\n",
    "    T_x1i = T_x1+dx_i[1:]\n",
    "    T_y2i = T_y2+dy_i\n",
    "    T_x2i = T_x2+dx_i[1:]\n",
    "    \n",
    "    \n",
    "    \n",
    "    # Conformal mapping to the cylinder with user's Radius [mm]\n",
    "    #x = R_array.min()*np.cos(dx/R_array.min())\n",
    "    #y = R_array.min()*np.sin(dx/R_array.min())\n",
    "    #z = dy\n",
    "    \n",
    "    # Conformal mapping to the surface with user's function R = f(dy)\n",
    "    dx_merid_func = np.linspace(0, L, R_array.shape[0])  \n",
    "    merid_func = interpolate.interp1d(dx_merid_func, R_array, kind='quadratic')\n",
    "    R_i = merid_func(dx)\n",
    "    x = R_i*np.cos(dx/R_i)\n",
    "    y = R_i*np.sin(dx/R_i)\n",
    "    z = dy\n",
    "    Theta_array = 180/np.pi*(dx/R_i)\n",
    "    \n",
    "    \n",
    "    \n",
    "    \n",
    "    \n",
    "    \n",
    "    \n",
    "    \n",
    "    \n",
    "    return T_x1i, T_y1i, T_x2i, T_y2i"
   ]
  },
  {
   "cell_type": "code",
   "execution_count": 356,
   "metadata": {
    "ExecuteTime": {
     "end_time": "2020-03-07T08:00:23.354889Z",
     "start_time": "2020-03-07T08:00:23.348888Z"
    }
   },
   "outputs": [
    {
     "name": "stdout",
     "output_type": "stream",
     "text": [
      "99\n"
     ]
    }
   ],
   "source": [
    "X, Y, Xs, Ys = AxialCompressorAirfoil(300, Beta_arr, R_arr, T_arr)"
   ]
  },
  {
   "cell_type": "code",
   "execution_count": 357,
   "metadata": {
    "ExecuteTime": {
     "end_time": "2020-03-07T08:00:24.922518Z",
     "start_time": "2020-03-07T08:00:24.876000Z"
    }
   },
   "outputs": [],
   "source": [
    "plt.plot(X, Y)\n",
    "plt.plot(Xs, Ys)\n",
    "plt.grid()"
   ]
  },
  {
   "cell_type": "code",
   "execution_count": 153,
   "metadata": {
    "ExecuteTime": {
     "end_time": "2020-03-06T22:40:38.707892Z",
     "start_time": "2020-03-06T22:40:38.637893Z"
    }
   },
   "outputs": [
    {
     "name": "stdout",
     "output_type": "stream",
     "text": [
      "Using matplotlib backend: Qt5Agg\n"
     ]
    }
   ],
   "source": [
    "%matplotlib\n",
    "fig = plt.figure()\n",
    "ax = fig.add_subplot(111, projection='3d')\n",
    "ax.scatter(X, Y, Z)\n",
    "ax.set_aspect('equal')\n",
    "#ax = fig.gca(projection='3d')\n",
    "\n",
    "\n",
    "\n",
    "\n",
    "# Create cubic bounding box to simulate equal aspect ratio\n",
    "max_range = np.array([X.max()-X.min(), Y.max()-Y.min(), Z.max()-Z.min()]).max()\n",
    "Xb = 0.5*max_range*np.mgrid[-1:2:2,-1:2:2,-1:2:2][0].flatten() + 0.5*(X.max()+X.min())\n",
    "Yb = 0.5*max_range*np.mgrid[-1:2:2,-1:2:2,-1:2:2][1].flatten() + 0.5*(Y.max()+Y.min())\n",
    "Zb = 0.5*max_range*np.mgrid[-1:2:2,-1:2:2,-1:2:2][2].flatten() + 0.5*(Z.max()+Z.min())\n",
    "# Comment or uncomment following both lines to test the fake bounding box:\n",
    "for xb, yb, zb in zip(Xb, Yb, Zb):\n",
    "   ax.plot([xb], [yb], [zb], 'w')"
   ]
  },
  {
   "cell_type": "code",
   "execution_count": null,
   "metadata": {},
   "outputs": [],
   "source": []
  }
 ],
 "metadata": {
  "kernelspec": {
   "display_name": "Python 3",
   "language": "python",
   "name": "python3"
  },
  "language_info": {
   "codemirror_mode": {
    "name": "ipython",
    "version": 3
   },
   "file_extension": ".py",
   "mimetype": "text/x-python",
   "name": "python",
   "nbconvert_exporter": "python",
   "pygments_lexer": "ipython3",
   "version": "3.6.7"
  },
  "toc": {
   "base_numbering": 1,
   "nav_menu": {
    "height": "146px",
    "width": "241px"
   },
   "number_sections": true,
   "sideBar": true,
   "skip_h1_title": false,
   "title_cell": "Table of Contents",
   "title_sidebar": "Contents",
   "toc_cell": true,
   "toc_position": {
    "height": "159px",
    "left": "1204px",
    "top": "288px",
    "width": "322px"
   },
   "toc_section_display": true,
   "toc_window_display": true
  }
 },
 "nbformat": 4,
 "nbformat_minor": 2
}
