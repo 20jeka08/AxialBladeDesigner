{
 "cells": [
  {
   "cell_type": "markdown",
   "metadata": {
    "toc": true
   },
   "source": [
    "<h1>Table of Contents<span class=\"tocSkip\"></span></h1>\n",
    "<div class=\"toc\"><ul class=\"toc-item\"><li><span><a href=\"#Import-of-Python-modules\" data-toc-modified-id=\"Import-of-Python-modules-1\"><span class=\"toc-item-num\">1&nbsp;&nbsp;</span>Import of Python modules</a></span></li><li><span><a href=\"#Class-for-generation-of-blade-profile\" data-toc-modified-id=\"Class-for-generation-of-blade-profile-2\"><span class=\"toc-item-num\">2&nbsp;&nbsp;</span>Class for generation of blade profile</a></span></li></ul></div>"
   ]
  },
  {
   "cell_type": "markdown",
   "metadata": {
    "heading_collapsed": true
   },
   "source": [
    "## Import of Python modules"
   ]
  },
  {
   "cell_type": "code",
   "execution_count": 1,
   "metadata": {
    "ExecuteTime": {
     "end_time": "2020-03-09T16:29:19.591303Z",
     "start_time": "2020-03-09T16:29:16.773310Z"
    },
    "hidden": true
   },
   "outputs": [],
   "source": [
    "import numpy as np\n",
    "import matplotlib.pyplot as plt\n",
    "import sys\n",
    "from scipy import interpolate\n",
    "from mpl_toolkits.mplot3d import Axes3D"
   ]
  },
  {
   "cell_type": "code",
   "execution_count": 2,
   "metadata": {
    "ExecuteTime": {
     "end_time": "2020-03-09T16:29:24.431391Z",
     "start_time": "2020-03-09T16:29:21.259901Z"
    },
    "hidden": true
   },
   "outputs": [],
   "source": [
    "pathToFreeCAD = \"F:/Progs/FreeCAD/FreeCAD-0.18.4.980bf90-WIN-x64-portable/conda-0.18.4/bin\"\n",
    "sys.path.append(pathToFreeCAD)\n",
    "\n",
    "import FreeCAD, Part"
   ]
  },
  {
   "cell_type": "markdown",
   "metadata": {},
   "source": [
    "## Class for generation of blade profile"
   ]
  },
  {
   "cell_type": "code",
   "execution_count": 3,
   "metadata": {
    "ExecuteTime": {
     "end_time": "2020-03-09T16:29:29.109811Z",
     "start_time": "2020-03-09T16:29:28.853382Z"
    }
   },
   "outputs": [],
   "source": [
    "class BladeProfile():\n",
    "    def __init__(self, L, Beta_array, R_array, T_array, CoefLe=2, CoefTe=2, N=5000, N_LeTe = 30):\n",
    "        self.L = L\n",
    "        self.Beta_array = Beta_array\n",
    "        self.R_array = R_array\n",
    "        self.T_array = T_array\n",
    "        self.CoefLe = CoefLe\n",
    "        self.CoefTe = CoefTe\n",
    "        self.N = N\n",
    "        self.N_LeTe = N_LeTe\n",
    "    \n",
    "    def Generate2Dprofile(self):\n",
    "        '''Generation 2D profile of the blade, function returns XY coordinates of the profile'''\n",
    "        L = self.L\n",
    "        Beta_array = self.Beta_array\n",
    "        R_array = self.R_array\n",
    "        T_array = self.T_array\n",
    "        CoefLe = self.CoefLe\n",
    "        CoefTe = self.CoefTe\n",
    "        N = self.N\n",
    "        N_LeTe = self.N_LeTe\n",
    "        \n",
    "        FirstP = CoefLe*T_array[0]*np.cos(Beta_array[0]/180*np.pi)/2.0\n",
    "        LastP = CoefTe*T_array[-1]*np.cos(Beta_array[-1]/180*np.pi)/2.0\n",
    "        dx_i = np.linspace(0+FirstP, L-LastP, N)    # Split of the horizontal length of the blade\n",
    "        dx = dx_i[1:]-dx_i[:-1]\n",
    "        dx_beta_func = np.linspace(0, L, Beta_array.shape[0])   # Split length of blade for generation function beta = f(x)\n",
    "        beta_func = interpolate.interp1d(dx_beta_func, Beta_array, kind='quadratic') # function beta f(x)\n",
    "        Beta_i = beta_func(dx_i[1:])       # Calculation of the beta values for dx coordinates    \n",
    "        dy = dx*np.tan(Beta_i/180.0*np.pi)    # Calculation dy coordinates of the blade\n",
    "        dy_i = np.array([dy[:i+1].sum() for i in range(dy.shape[0])])+np.sqrt((CoefLe*T_array[0])**2/4-FirstP**2)\n",
    "\n",
    "        # Thickness of the streamline\n",
    "        dx_thick_func = np.linspace(0, L, T_array.shape[0])\n",
    "        thick_func = interpolate.interp1d(dx_thick_func, T_array, kind='quadratic')\n",
    "        T_i = thick_func(dx_i[1:])\n",
    "\n",
    "        dl = np.sqrt(dx**2+dy**2)\n",
    "        Alpha_i = np.arctan(T_i/dl/2)\n",
    "        dm = np.sqrt(dl**2+(T_i/2.0)**2)\n",
    "        T_y1 = dm*np.sin(Alpha_i+(Beta_i/180*np.pi))\n",
    "        T_x1 = dm*np.cos(Alpha_i+(Beta_i/180*np.pi))\n",
    "        T_y2 = dm*np.sin((Beta_i/180*np.pi)-Alpha_i)\n",
    "        T_x2 = dm*np.cos((Beta_i/180*np.pi)-Alpha_i)\n",
    "\n",
    "        T_y1i = T_y1+dy_i\n",
    "        T_x1i = T_x1+dx_i[1:]\n",
    "        T_y2i = T_y2+dy_i\n",
    "        T_x2i = T_x2+dx_i[1:]\n",
    "        \n",
    "        if CoefLe == 1:\n",
    "            # Creation of the coordinates of Leading Edge of the Airfoil\n",
    "            ArcLe = Part.Arc(FreeCAD.Vector(T_x2i[0], T_y2i[0], 0), FreeCAD.Vector(0, 0, 0), FreeCAD.Vector(T_x1i[0], T_y1i[0], 0))\n",
    "            Le_list = ArcLe.discretize(Number=32)\n",
    "            Le_x = np.array([Le_list[i].x for i in range(len(Le_list))])\n",
    "            Le_y = np.array([Le_list[i].y for i in range(len(Le_list))])\n",
    "        else:   \n",
    "            # Ellipse type of the Leading Edge\n",
    "            MajorR = App.Vector(0, 0, 0)\n",
    "            MinorR = App.Vector(T_x1i[0], T_y1i[0], 0)\n",
    "            Center = App.Vector(dx_i[0], dy_i[0], 0)\n",
    "            ArcEllLe = Part.ArcOfEllipse(Part.Ellipse(MajorR, MinorR, Center),-1.5, 1.5)\n",
    "            Le_list = ArcEllLe.discretize(Number=30)\n",
    "            Le_list.append(MinorR)\n",
    "            Le_list.insert(0, App.Vector(T_x2i[0], T_y2i[0], 0))\n",
    "            Le_x = np.array([Le_list[i].x for i in range(len(Le_list))])\n",
    "            Le_y = np.array([Le_list[i].y for i in range(len(Le_list))])    \n",
    "        \n",
    "        if CoefTe == 1:\n",
    "            #Creation of the coordinates Trailing Edge of the Airfoil\n",
    "            LastP_y = dy_i[-1]+np.sqrt((CoefTe*T_array[-1])**2/4-LastP**2)\n",
    "            ArcTe = Part.Arc(FreeCAD.Vector(T_x1i[-1], T_y1i[-1], 0), FreeCAD.Vector(L, LastP_y, 0), FreeCAD.Vector(T_x2i[-1], T_y2i[-1], 0))\n",
    "            Te_list = ArcTe.discretize(Number=32)\n",
    "            Te_x = np.array([Te_list[i].x for i in range(len(Te_list))])\n",
    "            Te_y = np.array([Te_list[i].y for i in range(len(Te_list))])\n",
    "        else:\n",
    "            # Ellipse type of the Trailling Edge\n",
    "            LastP_y = dy_i[-1]+np.sqrt((CoefTe*T_array[-1])**2/4-LastP**2)\n",
    "            MajorR_Te = App.Vector(L, LastP_y, 0)\n",
    "            MinorR_Te = App.Vector(T_x1i[-1], T_y1i[-1], 0)\n",
    "            Center_Te = App.Vector(dx_i[-1], dy_i[-1], 0)\n",
    "            ArcEllTe = Part.ArcOfEllipse(Part.Ellipse(MajorR_Te, MinorR_Te, Center_Te),-1.5, 1.5)\n",
    "            Te_list = ArcEllTe.discretize(Number=30)\n",
    "            Te_list.append(MinorR_Te)\n",
    "            Te_list.insert(0, App.Vector(T_x2i[-1], T_y2i[-1], 0))\n",
    "            Te_x = np.flip(np.array([Te_list[i].x for i in range(len(Te_list))]))\n",
    "            Te_y = np.flip(np.array([Te_list[i].y for i in range(len(Te_list))]))      \n",
    "        \n",
    "        # Compound of the all XY coordinates\n",
    "        X1 = np.array([Le_x, T_x1i, Te_x, np.flip(T_x2i)])\n",
    "        Y1 = np.array([Le_y, T_y1i, Te_y, np.flip(T_y2i)])\n",
    "        \n",
    "        # Creation of the list with FreeCAD Vectors of the streamline\n",
    "        ListStreamline = []\n",
    "        for i in range(dy_i.shape[0]):\n",
    "            v_i = FreeCAD.Vector(dx_i[i], dy_i[i], 0)\n",
    "            ListStreamline.append(v_i)\n",
    "        \n",
    "        SplineStreamline = Part.BSplineCurve()\n",
    "        SplineStreamline.interpolate(ListStreamline)\n",
    "        SplineStreamline = SplineStreamline.toShape()\n",
    "        CenterMass = SplineStreamline.CenterOfMass\n",
    "        \n",
    "        X = X1-CenterMass.x\n",
    "        Y = Y1-CenterMass.y\n",
    "        \n",
    "        return X, Y\n",
    "    \n",
    "    def View2DAirfoil(self, X_arrays, Y_arrays):\n",
    "        X1 = np.append(X_arrays[0], X_arrays[1])\n",
    "        Y1 = np.append(Y_arrays[0], Y_arrays[1])\n",
    "        X2 = np.append(X_arrays[2], X_arrays[3])\n",
    "        Y2 = np.append(Y_arrays[2], Y_arrays[3])\n",
    "        X = np.append(X1, X2)\n",
    "        Y = np.append(Y1, Y2)\n",
    "        plt.xlabel('X, [mm]')\n",
    "        plt.ylabel('Y, [mm]')\n",
    "        plt.plot(X, Y)\n",
    "        plt.grid()\n",
    "        plt.axis('equal')\n",
    "        plt.show()\n",
    "    \n",
    "    def Generate3Dprofile(self, X_arrays, Y_arrays):\n",
    "        '''Generation of the 3D coordinates of the profile with using Conformal Method'''\n",
    "        L = self.L\n",
    "        Beta_array = self.Beta_array\n",
    "        R_array = self.R_array\n",
    "        T_array = self.T_array\n",
    "        CoefLe = self.CoefLe\n",
    "        CoefTe = self.CoefTe\n",
    "        N = self.N\n",
    "        N_LeTe = self.N_LeTe\n",
    "        \n",
    "        dx_merid_func = np.linspace(X_arrays[0].min()-T_array[0], X_arrays[2].max()+T_array[-1], R_array.shape[0])  \n",
    "        merid_func = interpolate.interp1d(dx_merid_func, R_array, kind='quadratic')\n",
    "        R_i1 = merid_func(X_arrays[1])\n",
    "        x_ps = R_i1*np.cos(X_arrays[1]/R_i1)\n",
    "        y_ps = R_i1*np.sin(X_arrays[1]/R_i1)\n",
    "        z_ps = Y_arrays[1]\n",
    "\n",
    "        R_i2 = merid_func(X_arrays[3])\n",
    "        x_ss = R_i2*np.cos(X_arrays[3]/R_i2)\n",
    "        y_ss = R_i2*np.sin(X_arrays[3]/R_i2)\n",
    "        z_ss = Y_arrays[3]\n",
    "\n",
    "        R_le = merid_func(X_arrays[0])\n",
    "        x_le = R_le*np.cos(X_arrays[0]/R_le)\n",
    "        y_le = R_le*np.sin(X_arrays[0]/R_le)\n",
    "        z_le = Y_arrays[0]\n",
    "\n",
    "        R_te = merid_func(X_arrays[2])\n",
    "        x_te = R_te*np.cos(X_arrays[2]/R_te)\n",
    "        y_te = R_te*np.sin(X_arrays[2]/R_te)\n",
    "        z_te = Y_arrays[2]\n",
    "\n",
    "        x1 = np.append(x_le, x_ps)\n",
    "        y1 = np.append(y_le, y_ps)\n",
    "        z1 = np.append(z_le, z_ps)\n",
    "        x2 = np.append(x_te, x_ss)\n",
    "        y2 = np.append(y_te, y_ss)\n",
    "        z2 = np.append(z_te, z_ss)\n",
    "        x = np.append(x1, x2)\n",
    "        y = np.append(y1, y2)\n",
    "        z = np.append(z1, z2)\n",
    "        \n",
    "        return x, y, z\n",
    "\n",
    "    def View3DAirfoil(self, X, Y, Z):\n",
    "        fig = plt.figure()\n",
    "        ax = fig.add_subplot(111, projection='3d')\n",
    "        ax.plot(X, Y, Z)\n",
    "        ax.set_aspect('equal')\n",
    "        \n",
    "        max_range = np.array([X.max()-X.min(), Y.max()-Y.min(), Z.max()-Z.min()]).max()\n",
    "        Xb = 0.5*max_range*np.mgrid[-1:2:2,-1:2:2,-1:2:2][0].flatten() + 0.5*(X.max()+X.min())\n",
    "        Yb = 0.5*max_range*np.mgrid[-1:2:2,-1:2:2,-1:2:2][1].flatten() + 0.5*(Y.max()+Y.min())\n",
    "        Zb = 0.5*max_range*np.mgrid[-1:2:2,-1:2:2,-1:2:2][2].flatten() + 0.5*(Z.max()+Z.min())\n",
    "        # Comment or uncomment following both lines to test the fake bounding box:\n",
    "        for xb, yb, zb in zip(Xb, Yb, Zb):\n",
    "           ax.plot([xb], [yb], [zb], 'w')   "
   ]
  },
  {
   "cell_type": "code",
   "execution_count": 4,
   "metadata": {
    "ExecuteTime": {
     "end_time": "2020-03-09T16:29:35.051844Z",
     "start_time": "2020-03-09T16:29:35.044844Z"
    }
   },
   "outputs": [],
   "source": [
    "Beta_arr1 = np.array([15, 20, 50])\n",
    "R_arr1 = np.array([60, 60, 60])\n",
    "T_arr1 = np.array([2, 4, 3, 2])\n",
    "\n",
    "Beta_arr2 = np.array([25, 30, 35])\n",
    "R_arr2 = np.array([20, 30, 40])\n",
    "T_arr2 = np.array([3, 5, 4, 3])\n",
    "\n",
    "Profile1 = BladeProfile(120, Beta_array=Beta_arr1, R_array=R_arr1, T_array=T_arr1, CoefLe=1, CoefTe=1)\n",
    "Profile2 = BladeProfile(50, Beta_array=Beta_arr2, R_array=R_arr2, T_array=T_arr2, CoefLe=1, CoefTe=1)"
   ]
  },
  {
   "cell_type": "code",
   "execution_count": 5,
   "metadata": {
    "ExecuteTime": {
     "end_time": "2020-03-09T16:29:36.092634Z",
     "start_time": "2020-03-09T16:29:35.893097Z"
    }
   },
   "outputs": [],
   "source": [
    "X1, Y1 = Profile1.Generate2Dprofile()\n",
    "x1, y1, z1 = Profile1.Generate3Dprofile(X1, Y1)\n",
    "\n",
    "#X2, Y2 = Profile2.Generate2Dprofile()\n",
    "#x2, y2, z2 = Profile2.Generate3Dprofile(X2, Y2)"
   ]
  },
  {
   "cell_type": "code",
   "execution_count": 6,
   "metadata": {
    "ExecuteTime": {
     "end_time": "2020-03-09T16:29:38.092276Z",
     "start_time": "2020-03-09T16:29:37.691185Z"
    }
   },
   "outputs": [
    {
     "data": {
      "image/png": "[encoded data removed]",
      "text/plain": [
       "<Figure size 432x288 with 1 Axes>"
      ]
     },
     "metadata": {
      "needs_background": "light"
     },
     "output_type": "display_data"
    }
   ],
   "source": [
    "Profile1.View2DAirfoil(X1, Y1)"
   ]
  },
  {
   "cell_type": "code",
   "execution_count": 7,
   "metadata": {
    "ExecuteTime": {
     "end_time": "2020-03-09T18:58:10.155125Z",
     "start_time": "2020-03-09T18:58:09.940563Z"
    }
   },
   "outputs": [
    {
     "data": {
      "image/png": "[encoded data removed]",
      "text/plain": [
       "<Figure size 432x288 with 1 Axes>"
      ]
     },
     "metadata": {
      "needs_background": "light"
     },
     "output_type": "display_data"
    }
   ],
   "source": [
    "Profile2.View3DAirfoil(x1, y1, z1)"
   ]
  },
  {
   "cell_type": "code",
   "execution_count": null,
   "metadata": {},
   "outputs": [],
   "source": []
  }
 ],
 "metadata": {
  "kernelspec": {
   "display_name": "Python 3",
   "language": "python",
   "name": "python3"
  },
  "language_info": {
   "codemirror_mode": {
    "name": "ipython",
    "version": 3
   },
   "file_extension": ".py",
   "mimetype": "text/x-python",
   "name": "python",
   "nbconvert_exporter": "python",
   "pygments_lexer": "ipython3",
   "version": "3.6.7"
  },
  "toc": {
   "base_numbering": 1,
   "nav_menu": {
    "height": "146px",
    "width": "241px"
   },
   "number_sections": true,
   "sideBar": true,
   "skip_h1_title": false,
   "title_cell": "Table of Contents",
   "title_sidebar": "Contents",
   "toc_cell": true,
   "toc_position": {
    "height": "159px",
    "left": "1204px",
    "top": "288px",
    "width": "321.989px"
   },
   "toc_section_display": true,
   "toc_window_display": true
  }
 },
 "nbformat": 4,
 "nbformat_minor": 2
}
